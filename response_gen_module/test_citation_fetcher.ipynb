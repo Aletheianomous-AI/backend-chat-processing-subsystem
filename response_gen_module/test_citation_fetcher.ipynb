{
 "cells": [
  {
   "cell_type": "code",
   "execution_count": 3,
   "id": "ce3e5962-64a5-490e-b632-b340402c1269",
   "metadata": {},
   "outputs": [],
   "source": [
    "from citation_fetcher import Citation_Fetcher as CF"
   ]
  },
  {
   "cell_type": "code",
   "execution_count": 4,
   "id": "1d3b44dd-5631-47e8-b212-08c47d6700c0",
   "metadata": {},
   "outputs": [
    {
     "data": {
      "text/plain": [
       "[{'title': \"Five Nights at Freddy's Wiki | Fandom\",\n",
       "  'href': \"https://freddy-fazbears-pizza.fandom.com/wiki/Five_Nights_at_Freddy's_Wiki\",\n",
       "  'body': \"Welcome to the Five Nights at Freddy's Wiki, the comprehensive encyclopedia site about Five Nights at Freddy's, a media franchise based around an indie point-and-click horror video game series created by Scott Cawthon.The series is centered on the universe of various fictional restaurant chains (pastiches of real-life restaurants such as Chuck E. Cheese's and ShowBiz Pizza Place) hosted by the ...\"},\n",
       " {'title': \"Five Nights at Freddy's - Wikipedia\",\n",
       "  'href': \"https://en.wikipedia.org/wiki/Five_Nights_at_Freddy's\",\n",
       "  'body': 'Five Nights at Freddy\\'s (FNaF) is a video game series and media franchise created by Scott Cawthon.The first video game was released on August 8, 2014, and the resultant series has since gained worldwide popularity.. The main series consists of nine video games taking place in locations connected to a fictional family pizza restaurant franchise named \"Freddy Fazbear\\'s Pizza\", after its mascot ...'},\n",
       " {'title': \"Five Nights At Freddy's Wiki | Fandom\",\n",
       "  'href': \"https://fivenightsatfreddys.fandom.com/wiki/Five_Nights_At_Freddy's_Wiki\",\n",
       "  'body': \"The Five Nights at Freddy's Wiki is a wiki about the point-and-click indie horror game, Five Nights at Freddy's. There have been 48,469 edits and 524 articles since August 22nd, 2014. About . Five Nights at Freddy's is an indie point-and-click horror game made by Scott Cawthon, which was first released on August 8th, 2014. The game has since ...\"},\n",
       " {'title': \"Five Nights at Freddy's Character Encyclopedia\",\n",
       "  'href': \"https://fivenightsatfreddys.fandom.com/wiki/Five_Nights_at_Freddy's_Character_Encyclopedia\",\n",
       "  'body': \"The Five Nights at Freddy's Character Encyclopedia is an official guide to the characters of the Five Nights at Freddy's franchise. The book is 227 pages and was released on February 7, 2023. In total, there are 161 characters included, a plurality of which are variants of Freddy Fazbear. Despite having been written by Scott Cawthon, it has been widely criticized for the presence of ...\"},\n",
       " {'title': \"Five Nights at Freddy's | Five Nights at Freddy's Wiki | Fandom\",\n",
       "  'href': \"https://freddy-fazbears-pizza.fandom.com/wiki/Five_Nights_at_Freddy's\",\n",
       "  'body': \"Five Nights at Freddy's is an indie point-and-click survival horror video game and the first installment of the series developed by Scott Cawthon. It was first released on IndieDB as a demo on July 24, 2014 before the full game was released on August 8, 2014 (although it was ultimately removed at an unknown date), and released on Steam on ...\"},\n",
       " {'title': \"Five Nights at Freddy's | Five Nights At Freddy's Wiki | Fandom\",\n",
       "  'href': \"https://fivenightsatfreddys.fandom.com/wiki/Five_Nights_at_Freddy's\",\n",
       "  'body': \"Are you looking for the movie by the same name? Five Nights at Freddy's is an indie point-and-click survival horror video game developed by Scott Cawthon and was released on July 24th, 2014. The goal is for the player to try to survive the night at Freddy Fazbear's Pizza while avoiding getting caught by the animatronics. After the second Freddy Fazbear's Pizzeria is closed in 1987 after the ...\"},\n",
       " {'title': \"Games | Five Nights At Freddy's Wiki | Fandom\",\n",
       "  'href': 'https://fivenightsatfreddys.fandom.com/wiki/Games',\n",
       "  'body': \"and 2 more. Games. (Page made for mobile users who are struggling to see the dropdown menu) Canon: Five Nights at freddys, Five Nights at Freddy's 2, Five Nights at Freddy's 3, Five Nights at Freddy's 4, Five Nights at Freddy's: Sister Location, Freddy Fazbear's Pizzeria Simulator, Ultimate Custom Night, Five Nights at Freddy's VR: Help Wanted ...\"},\n",
       " {'title': \"Five Nights at Freddy's Wiki Guide - IGN\",\n",
       "  'href': 'https://www.ign.com/wikis/five-nights-at-freddys',\n",
       "  'body': 'Learn how to survive in Freddy Fazbears pizzeria for five nights and overcome the monsters and horrors. Find tips, info, cheats, and more for The Nights PC and Android versions.'},\n",
       " {'title': \"FNAF Cassie Character Explained (& Why She's Not In The Five Nights At ...\",\n",
       "  'href': 'https://screenrant.com/cassie-fnaf-character-explained-why-not-in-five-nights-freddys-movie/',\n",
       "  'body': \"The Five Nights at Freddy's movie was a huge success, but the Cassie FNAF character was missing. The FNAF franchise has terrified gamers worldwide since its debut. The series, developed by Scott Cawthon, is renowned for its unique blend of horror, complex lore, and interactive gameplay. Set in a fictional pizza restaurant called Freddy Fazbear's Pizza, players must survive night shifts while ...\"},\n",
       " {'title': \"Unraveling the Mysteries of 'Five Nights at Freddy's ... - MSN\",\n",
       "  'href': 'https://www.msn.com/en-us/tv/news/unraveling-the-mysteries-of-five-nights-at-freddy-s-exploring-the-twists-and-turns-of-the-terrifying-franchise/ar-BB1jwRWd',\n",
       "  'body': 'Since its inception as a popular video game series, \"Five Nights at Freddy\\'s\" has captivated audiences with its spine-chilling lore and intricate storytelling. Now, with the release of the ...'}]"
      ]
     },
     "execution_count": 4,
     "metadata": {},
     "output_type": "execute_result"
    }
   ],
   "source": [
    "CF.search_online(\"Five nights at freddys wiki\")"
   ]
  }
 ],
 "metadata": {
  "kernelspec": {
   "display_name": "Python 3 (ipykernel)",
   "language": "python",
   "name": "python3"
  },
  "language_info": {
   "codemirror_mode": {
    "name": "ipython",
    "version": 3
   },
   "file_extension": ".py",
   "mimetype": "text/x-python",
   "name": "python",
   "nbconvert_exporter": "python",
   "pygments_lexer": "ipython3",
   "version": "3.10.13"
  }
 },
 "nbformat": 4,
 "nbformat_minor": 5
}
