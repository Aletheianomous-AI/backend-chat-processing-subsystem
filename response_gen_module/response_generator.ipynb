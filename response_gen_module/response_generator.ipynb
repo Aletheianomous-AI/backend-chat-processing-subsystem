{
 "cells": [
  {
   "cell_type": "code",
   "execution_count": 1,
   "id": "f3d521ab-43f5-4871-ba4a-5e963d1bdcde",
   "metadata": {},
   "outputs": [
    {
     "name": "stdout",
     "output_type": "stream",
     "text": [
      "/home/sp15-chatbot/Documents/backend-chat-processing-subsystem\n",
      "['/usr/lib/python310.zip', '/usr/lib/python3.10', '/usr/lib/python3.10/lib-dynload', '', '/home/sp15-chatbot/Documents/backend-chat-processing-subsystem/.venv/lib/python3.10/site-packages', '/home/sp15-chatbot/Documents/backend-chat-processing-subsystem/data_management_subsystem']\n"
     ]
    }
   ],
   "source": [
    "from pathlib import Path\n",
    "import os\n",
    "import sys\n",
    "\n",
    "cur_dir = Path(os.getcwd())\n",
    "par_dir = cur_dir.parent.absolute()\n",
    "print(par_dir)\n",
    "\n",
    "sys.path.append(str(par_dir) + \"/data_management_subsystem\")\n",
    "print(sys.path)"
   ]
  },
  {
   "cell_type": "code",
   "execution_count": 2,
   "id": "f67fc0db-403f-4e01-87dc-57859c7a77cd",
   "metadata": {
    "id": "f67fc0db-403f-4e01-87dc-57859c7a77cd",
    "outputId": "9211d94d-61aa-466b-a903-bc62e01e9e07"
   },
   "outputs": [
    {
     "name": "stderr",
     "output_type": "stream",
     "text": [
      "/home/sp15-chatbot/Documents/backend-chat-processing-subsystem/.venv/lib/python3.10/site-packages/tqdm/auto.py:21: TqdmWarning: IProgress not found. Please update jupyter and ipywidgets. See https://ipywidgets.readthedocs.io/en/stable/user_install.html\n",
      "  from .autonotebook import tqdm as notebook_tqdm\n"
     ]
    },
    {
     "ename": "ModuleNotFoundError",
     "evalue": "No module named 'pyodbc'",
     "output_type": "error",
     "traceback": [
      "\u001b[0;31m---------------------------------------------------------------------------\u001b[0m",
      "\u001b[0;31mModuleNotFoundError\u001b[0m                       Traceback (most recent call last)",
      "Cell \u001b[0;32mIn[2], line 7\u001b[0m\n\u001b[1;32m      3\u001b[0m \u001b[38;5;28;01mfrom\u001b[39;00m \u001b[38;5;21;01mtransformers\u001b[39;00m \u001b[38;5;28;01mimport\u001b[39;00m pipeline\n\u001b[1;32m      4\u001b[0m \u001b[38;5;28;01mfrom\u001b[39;00m \u001b[38;5;21;01mnltk\u001b[39;00m \u001b[38;5;28;01mimport\u001b[39;00m tokenize \u001b[38;5;28;01mas\u001b[39;00m sentence_delim\n\u001b[0;32m----> 7\u001b[0m \u001b[38;5;28;01mfrom\u001b[39;00m \u001b[38;5;21;01mchat_data_module\u001b[39;00m \u001b[38;5;28;01mimport\u001b[39;00m ChatData \u001b[38;5;28;01mas\u001b[39;00m cd\n\u001b[1;32m      9\u001b[0m \u001b[38;5;28;01mimport\u001b[39;00m \u001b[38;5;21;01mgc\u001b[39;00m\n\u001b[1;32m     10\u001b[0m \u001b[38;5;28;01mimport\u001b[39;00m \u001b[38;5;21;01mnltk\u001b[39;00m\n",
      "File \u001b[0;32m~/Documents/backend-chat-processing-subsystem/data_management_subsystem/chat_data_module.py:1\u001b[0m\n\u001b[0;32m----> 1\u001b[0m \u001b[38;5;28;01mimport\u001b[39;00m \u001b[38;5;21;01mpyodbc\u001b[39;00m\n\u001b[1;32m      2\u001b[0m \u001b[38;5;28;01mimport\u001b[39;00m \u001b[38;5;21;01mpandas\u001b[39;00m \u001b[38;5;28;01mas\u001b[39;00m \u001b[38;5;21;01mpd\u001b[39;00m\n\u001b[1;32m      5\u001b[0m \u001b[38;5;28;01mclass\u001b[39;00m \u001b[38;5;21;01mChatData\u001b[39;00m():\n",
      "\u001b[0;31mModuleNotFoundError\u001b[0m: No module named 'pyodbc'"
     ]
    }
   ],
   "source": [
    "from citation_fetcher import Citation_Fetcher as cf\n",
    "from datetime import datetime as dt\n",
    "from transformers import pipeline\n",
    "from nltk import tokenize as sentence_delim\n",
    "\n",
    "\n",
    "from chat_data_module import ChatData as cd\n",
    "\n",
    "import gc\n",
    "import nltk\n",
    "import os\n",
    "import re\n",
    "import sys\n",
    "import torch\n",
    "import yake"
   ]
  },
  {
   "cell_type": "code",
   "execution_count": 3,
   "id": "18ca1cba-f877-4451-924d-5e018f24da20",
   "metadata": {},
   "outputs": [
    {
     "name": "stdout",
     "output_type": "stream",
     "text": [
      "/home/sp15-chatbot/Documents/backend-chat-processing-subsystem/response_gen_module\n",
      "['./', '/usr/lib/python310.zip', '/usr/lib/python3.10', '/usr/lib/python3.10/lib-dynload', '', '/home/sp15-chatbot/Documents/backend-chat-processing-subsystem/.venv/lib/python3.10/site-packages', '/tmp/tmp84egx7r3']\n",
      "['./', './', '/usr/lib/python310.zip', '/usr/lib/python3.10', '/usr/lib/python3.10/lib-dynload', '', '/home/sp15-chatbot/Documents/backend-chat-processing-subsystem/.venv/lib/python3.10/site-packages', '/tmp/tmp84egx7r3']\n"
     ]
    }
   ],
   "source": [
    "print(os.getcwd())\n",
    "print(sys.path)\n",
    "print(sys.path)"
   ]
  },
  {
   "cell_type": "code",
   "execution_count": 12,
   "id": "332dbfa6-c85f-475e-882a-64c7c2e084e4",
   "metadata": {
    "id": "332dbfa6-c85f-475e-882a-64c7c2e084e4"
   },
   "outputs": [],
   "source": [
    "class ResponseGenerator():\n",
    "\n",
    "    def __init__(self):\n",
    "        self.base_model = None\n",
    "        self.base_system_msg = None\n",
    "        self.kw_extractor = yake.KeywordExtractor()\n",
    "\n",
    "\n",
    "    def generate(self, user_input: str, DEBUG_MODE=True):\n",
    "        if DEBUG_MODE:\n",
    "            print(\"Debug mode has been enabled. Capturing runtime...\\n\")\n",
    "            query_gen_start: dt = dt.now()\n",
    "        query_results = None\n",
    "        nltk.download('punkt')\n",
    "        processed_input = sentence_delim.sent_tokenize(user_input)\n",
    "        \n",
    "        print(processed_input)\n",
    "\n",
    "        last_sentence_index = len(processed_input) - 1\n",
    "        processed_input = processed_input[last_sentence_index]\n",
    "        self.kw_extractor = yake.KeywordExtractor()\n",
    "        print(procesed_input)\n",
    "        keywords = self.kw_extractor.extract_keywords(processed_input)\n",
    "        print(keywords)\n",
    "\n",
    "        if DEBUG_MODE:\n",
    "            query_gen_end: dt = dt.now()\n",
    "            query_gen_time: dt = query_gen_end - query_gen_start\n",
    "            print(\"Search Query Generation time: \" + str(query_gen_time))\n",
    "            base_model_gen_start: dt = dt.now()\n",
    "\n",
    "        base_model_gen_msg  = [\n",
    "                {\n",
    "                    \"role\": \"system\",\n",
    "                \"content\": \"\"\"You are a friendly chatbot that provides reliable information to the user.\n",
    "                    Your goals are to reduce suffering in the universe, increase prosperity in the universe, and increase understanding in the universe.\"\"\"\n",
    "                },\n",
    "                {\n",
    "                    \"role\": \"user\",\n",
    "                    \"content\": user_input\n",
    "                }\n",
    "            ]\n",
    "        if len(keywords) > 0:\n",
    "            search_query = keywords[0][0]\n",
    "            print(\"Searching for: \\\"\" + search_query + \"\\\"...\")\n",
    "            query_results = cf.search_online(search_query)\n",
    "            base_model_gen_msg.append({\"role\": \"query_results\", \"content\": query_results})\n",
    "            current_time = dt.now()\n",
    "            base_model_gen_msg[0][\"content\"] += (\"You have submitted a query search engine that can help you answer the user's question. \" + \n",
    "                                                 \"Please summarize the query results that can best answer the user's question.\")\n",
    "        else:\n",
    "            print(\"Skipping search query...\")\n",
    "            pass\n",
    "\n",
    "        self.kw_extractor = None\n",
    "        del self.kw_extractor\n",
    "        gc.collect()\n",
    "        torch.cuda.empty_cache()\n",
    "        self.base_model = (pipeline(\"text-generation\", model=\"HuggingFaceH4/zephyr-7b-alpha\",\n",
    "            torch_dtype = torch.bfloat16, device_map=\"auto\"))\n",
    "        base_model_prompt = self.base_model.tokenizer.apply_chat_template(base_model_gen_msg, tokenize=False, add_generation_prompt=True)\n",
    "        model_output = self.base_model(base_model_prompt, max_new_tokens=256, do_sample=True, temperature=0.7, top_k=50, top_p=0.95)\n",
    "        model_output = model_output[0]\n",
    "        model_output = model_output['generated_text']\n",
    "        #print(model_output)\n",
    "        model_output = model_output.split(\"<|assistant|>\\n\")\n",
    "        #print(len(model_output))\n",
    "        model_output = model_output[1]\n",
    "        self.base_model = None\n",
    "        del self.base_model\n",
    "        gc.collect()\n",
    "        torch.cuda.empty_cache()\n",
    "\n",
    "        if DEBUG_MODE:\n",
    "            base_model_gen_end: dt = dt.now()\n",
    "            base_model_gen_time: dt = base_model_gen_end - base_model_gen_start\n",
    "            print(\"Base/Response Model generation time: \" + str(base_model_gen_time))\n",
    "            total_gen_time: dt = query_gen_time + base_model_gen_time\n",
    "            print(\"Total generation time: \" + str(total_gen_time) + \"\\n\")\n",
    "\n",
    "        if query_results is not None:\n",
    "            model_output +=\"\\r\\nSource:\\n\"\n",
    "            i = 0\n",
    "            for item in query_results:\n",
    "                if i >= 3:\n",
    "                    break\n",
    "                else:\n",
    "                    model_output += item['href'] + \"\\n\"\n",
    "                i += 1\n",
    "        \n",
    "        return query_results, model_output\n"
   ]
  },
  {
   "cell_type": "code",
   "execution_count": 13,
   "id": "6dbae0c7-db0c-434e-880b-f30dfa97f89d",
   "metadata": {
    "id": "6dbae0c7-db0c-434e-880b-f30dfa97f89d",
    "outputId": "8108f713-93d3-4be3-b1b2-821021aee1e8"
   },
   "outputs": [
    {
     "name": "stdout",
     "output_type": "stream",
     "text": [
      "Debug mode has been enabled. Capturing runtime...\n",
      "\n",
      "Search Query Generation time: 0:00:00.008940\n",
      "Searching for: \"weather at Atlanta\"...\n"
     ]
    },
    {
     "name": "stderr",
     "output_type": "stream",
     "text": [
      "[nltk_data] Downloading package punkt to\n",
      "[nltk_data]     /home/sp15-chatbot/nltk_data...\n",
      "[nltk_data]   Package punkt is already up-to-date!\n",
      "Loading checkpoint shards: 100%|████████████████████████████████████████████████████████████████████████████████████████████| 8/8 [00:03<00:00,  2.36it/s]\n"
     ]
    },
    {
     "name": "stdout",
     "output_type": "stream",
     "text": [
      "Base/Response Model generation time: 0:00:08.340371\n",
      "Total generation time: 0:00:08.349311\n",
      "\n"
     ]
    }
   ],
   "source": [
    "rg = ResponseGenerator()\n",
    "query_results, out = rg.generate(\"Hello, Alethianomous. What is the current weather at Atlanta, Georgia?\", DEBUG_MODE=True)"
   ]
  },
  {
   "cell_type": "code",
   "execution_count": 14,
   "id": "c9fc7dbe-39c5-40c6-baf5-c08009f25c9f",
   "metadata": {},
   "outputs": [
    {
     "name": "stdout",
     "output_type": "stream",
     "text": [
      "[{'title': 'Atlanta, GA Weather Forecast | AccuWeather', 'href': 'https://www.accuweather.com/en/us/atlanta/30303/weather-forecast/348181', 'body': 'Atlanta, GA Weather Forecast, with current conditions, wind, air quality, and what to expect for the next 3 days.'}, {'title': '10-Day Weather Forecast for Atlanta, GA - The Weather Channel', 'href': 'https://weather.com/weather/tenday/l/Atlanta+GA?canonicalCityId=508c6a2d4ca8386de1772c4316073b1448fb270ee2d264d01c7b2a4b33073688', 'body': 'Be prepared with the most accurate 10-day forecast for Atlanta, GA with highs, lows, chance of precipitation from The Weather Channel and Weather.com'}, {'title': 'Hourly Weather Forecast for Atlanta, GA - The Weather Channel', 'href': 'https://weather.com/weather/hourbyhour/l/Atlanta+GA?canonicalCityId=508c6a2d4ca8386de1772c4316073b1448fb270ee2d264d01c7b2a4b33073688', 'body': 'Hourly Local Weather Forecast, weather conditions, precipitation, dew point, humidity, wind from Weather.com and The Weather Channel'}, {'title': 'National Weather Service', 'href': 'https://forecast.weather.gov/zipcity.php?inputstring=Atlanta,GA', 'body': 'Find out the 7-day forecast for Atlanta, GA, from the National Weather Service. See how the weather conditions in the southeast compare to other regions of the country. Get the latest updates on temperature, precipitation, wind, and more.'}, {'title': 'Atlanta, GA Weather - The Weather Channel', 'href': 'https://weather.com/weather/today/l/Atlanta+GA?canonicalCityId=508c6a2d4ca8386de1772c4316073b1448fb270ee2d264d01c7b2a4b33073688', 'body': \"Today's and tonight's Atlanta, GA weather forecast, weather conditions and Doppler radar from The Weather Channel and Weather.com\"}, {'title': 'Weather Today for Atlanta, GA | AccuWeather', 'href': 'https://www.accuweather.com/en/us/atlanta/30303/weather-today/348181', 'body': \"Everything you need to know about today's weather in Atlanta, GA. High/Low, Precipitation Chances, Sunrise/Sunset, and today's Temperature History.\"}, {'title': 'Atlanta, GA 10-Day Weather Forecast | Weather Underground', 'href': 'https://www.wunderground.com/forecast/us/ga/atlanta', 'body': 'Atlanta Weather Forecasts. Weather Underground provides local & long-range weather forecasts, weatherreports, maps & tropical weather conditions for the Atlanta area.'}, {'title': 'National Weather Service', 'href': 'https://forecast.weather.gov/MapClick.php?lat=33.641&lon=-84.4226', 'body': 'Monday Night. A 30 percent chance of showers, mainly after 5am. Mostly cloudy, with a low around 53. East wind around 20 mph, with gusts as high as 35 mph. Tuesday. Showers, with thunderstorms also possible after 2pm. High near 65. Southeast wind 15 to 20 mph, with gusts as high as 30 mph. Chance of precipitation is 90%.'}, {'title': '7-Day Forecast for Latitude 33.76°N and Longitude 84.43°W', 'href': 'https://www.nws.noaa.gov/wtf/MapClick.php?CityName=Atlanta&state=GA&site=FFC&textField1=33.7629&textField2=-84.4226&lg=ep', 'body': 'Tonight: Showers. Steady temperature around 57. East northeast wind between 6 and 15 mph, with gusts as high as 29 mph. Chance of precipitation is 90%. Saturday: Showers likely before 1pm. Mostly cloudy, with a high near 66. North northwest wind between 8 and 18 mph, with gusts as high as 30 mph. Chance of precipitation is 60%.'}, {'title': 'Weather for Atlanta, Georgia, USA - timeanddate.com', 'href': 'https://www.timeanddate.com/weather/usa/atlanta', 'body': 'Current weather in Atlanta and forecast for today, tomorrow, and next 14 days'}]\n"
     ]
    }
   ],
   "source": []
  },
  {
   "cell_type": "code",
   "execution_count": 15,
   "id": "49c07d0d-ceb0-4103-aab8-dee65de19786",
   "metadata": {
    "id": "49c07d0d-ceb0-4103-aab8-dee65de19786"
   },
   "outputs": [
    {
     "name": "stdout",
     "output_type": "stream",
     "text": [
      "Alethianomous: Hello, user! According to the latest weather report, the current temperature in Atlanta, Georgia, is 72°F (22°C) and it's partly cloudy with a chance of thunderstorms later today. The humidity is 68% and the wind is blowing at 10 mph (16 km/h). I hope this information helps!\n",
      "Source:\n",
      "https://www.accuweather.com/en/us/atlanta/30303/weather-forecast/348181\n",
      "https://weather.com/weather/tenday/l/Atlanta+GA?canonicalCityId=508c6a2d4ca8386de1772c4316073b1448fb270ee2d264d01c7b2a4b33073688\n",
      "https://weather.com/weather/hourbyhour/l/Atlanta+GA?canonicalCityId=508c6a2d4ca8386de1772c4316073b1448fb270ee2d264d01c7b2a4b33073688\n",
      "\n"
     ]
    }
   ],
   "source": [
    "print(out)"
   ]
  },
  {
   "cell_type": "code",
   "execution_count": 16,
   "id": "6f336bc5-fdc1-4c12-be08-4fea633718a8",
   "metadata": {},
   "outputs": [
    {
     "name": "stdout",
     "output_type": "stream",
     "text": [
      "Debug mode has been enabled. Capturing runtime...\n",
      "\n",
      "Search Query Generation time: 0:00:00.002611\n",
      "Skipping search query...\n"
     ]
    },
    {
     "name": "stderr",
     "output_type": "stream",
     "text": [
      "[nltk_data] Downloading package punkt to\n",
      "[nltk_data]     /home/sp15-chatbot/nltk_data...\n",
      "[nltk_data]   Package punkt is already up-to-date!\n",
      "Loading checkpoint shards: 100%|████████████████████████████████████████████████████████████████████████████████████████████| 8/8 [00:03<00:00,  2.43it/s]\n"
     ]
    },
    {
     "name": "stdout",
     "output_type": "stream",
     "text": [
      "Base/Response Model generation time: 0:00:05.715982\n",
      "Total generation time: 0:00:05.718593\n",
      "\n",
      "I do not have the ability to feel emotions or have a physical presence, but i am programmed to assist you in any way i can. how can i help you today?\n"
     ]
    }
   ],
   "source": [
    "print(rg.generate(\"Hi Alethianomous. How are you?\")[1])"
   ]
  },
  {
   "cell_type": "code",
   "execution_count": 17,
   "id": "i3IQC06Rt-Tu",
   "metadata": {
    "id": "i3IQC06Rt-Tu"
   },
   "outputs": [
    {
     "name": "stdout",
     "output_type": "stream",
     "text": [
      "Debug mode has been enabled. Capturing runtime...\n",
      "\n",
      "Search Query Generation time: 0:00:00.008485\n",
      "Searching for: \"Kennesaw State University\"...\n"
     ]
    },
    {
     "name": "stderr",
     "output_type": "stream",
     "text": [
      "[nltk_data] Downloading package punkt to\n",
      "[nltk_data]     /home/sp15-chatbot/nltk_data...\n",
      "[nltk_data]   Package punkt is already up-to-date!\n",
      "Loading checkpoint shards: 100%|████████████████████████████████████████████████████████████████████████████████████████████| 8/8 [00:03<00:00,  2.37it/s]\n"
     ]
    },
    {
     "name": "stdout",
     "output_type": "stream",
     "text": [
      "Base/Response Model generation time: 0:00:07.157668\n",
      "Total generation time: 0:00:07.166153\n",
      "\n",
      "Based on the latest information, Kennesaw State University's OwlCon is scheduled to take place in March 2024. However, the exact dates have not yet been announced. I will keep you updated as soon as the dates are confirmed.\n",
      "Source:\n",
      "https://www.kennesaw.edu/\n",
      "https://en.wikipedia.org/wiki/Kennesaw_State_University\n",
      "https://www.kennesaw.edu/academics/index.php\n",
      "\n"
     ]
    }
   ],
   "source": [
    "print(rg.generate(\"When is Kennesaw State University OwlCon in 2024?\")[1])"
   ]
  },
  {
   "cell_type": "code",
   "execution_count": 18,
   "id": "OLwFjbc2uN67",
   "metadata": {
    "id": "OLwFjbc2uN67"
   },
   "outputs": [
    {
     "name": "stdout",
     "output_type": "stream",
     "text": [
      "Debug mode has been enabled. Capturing runtime...\n",
      "\n",
      "Search Query Generation time: 0:00:00.002860\n",
      "Searching for: \"solar eclipse\"...\n"
     ]
    },
    {
     "name": "stderr",
     "output_type": "stream",
     "text": [
      "[nltk_data] Downloading package punkt to\n",
      "[nltk_data]     /home/sp15-chatbot/nltk_data...\n",
      "[nltk_data]   Package punkt is already up-to-date!\n",
      "Loading checkpoint shards: 100%|████████████████████████████████████████████████████████████████████████████████████████████| 8/8 [00:03<00:00,  2.37it/s]\n"
     ]
    },
    {
     "name": "stdout",
     "output_type": "stream",
     "text": [
      "Base/Response Model generation time: 0:00:06.735085\n",
      "Total generation time: 0:00:06.737945\n",
      "\n",
      "The next total solar eclipse in North America will occur on April 8, 2024. It will be visible in Mexico, the United States, and Canada.\n",
      "Source:\n",
      "https://www.nbcnews.com/science/science-news/total-solar-eclipse-how-when-safely-watch-rcna139582\n",
      "https://en.wikipedia.org/wiki/Solar_eclipse\n",
      "https://www.nytimes.com/article/total-solar-eclipse.html\n",
      "\n"
     ]
    }
   ],
   "source": [
    "print(rg.generate(\"When is the next solar eclipse in 2024?\")[1])"
   ]
  },
  {
   "cell_type": "code",
   "execution_count": 19,
   "id": "1BR8oSqIuJ8m",
   "metadata": {
    "id": "1BR8oSqIuJ8m"
   },
   "outputs": [
    {
     "name": "stdout",
     "output_type": "stream",
     "text": [
      "Debug mode has been enabled. Capturing runtime...\n",
      "\n",
      "Search Query Generation time: 0:00:00.002626\n",
      "Searching for: \"sentient\"...\n"
     ]
    },
    {
     "name": "stderr",
     "output_type": "stream",
     "text": [
      "[nltk_data] Downloading package punkt to\n",
      "[nltk_data]     /home/sp15-chatbot/nltk_data...\n",
      "[nltk_data]   Package punkt is already up-to-date!\n",
      "Loading checkpoint shards: 100%|████████████████████████████████████████████████████████████████████████████████████████████| 8/8 [00:03<00:00,  2.35it/s]\n"
     ]
    },
    {
     "name": "stdout",
     "output_type": "stream",
     "text": [
      "Base/Response Model generation time: 0:00:07.973723\n",
      "Total generation time: 0:00:07.976349\n",
      "\n",
      "I do not have consciousness or subjective experiences like humans do, so i cannot be considered sentient in the same way. i am designed to process and respond to input based on a set of algorithms and programming instructions. while i can understand and respond to language, i lack the cognitive abilities and subjective experiences of humans, such as emotions, thoughts, and beliefs.\n",
      "Source:\n",
      "https://www.merriam-webster.com/dictionary/sentient\n",
      "https://en.wikipedia.org/wiki/Sentience\n",
      "https://dictionary.cambridge.org/dictionary/english/sentient\n",
      "\n"
     ]
    }
   ],
   "source": [
    "print(rg.generate(\"Do you think you are sentient?\")[1])"
   ]
  },
  {
   "cell_type": "code",
   "execution_count": 20,
   "id": "SptWZettuSbS",
   "metadata": {
    "id": "SptWZettuSbS"
   },
   "outputs": [
    {
     "name": "stdout",
     "output_type": "stream",
     "text": [
      "Debug mode has been enabled. Capturing runtime...\n",
      "\n",
      "Search Query Generation time: 0:00:00.003720\n",
      "Searching for: \"cars made\"...\n"
     ]
    },
    {
     "name": "stderr",
     "output_type": "stream",
     "text": [
      "[nltk_data] Downloading package punkt to\n",
      "[nltk_data]     /home/sp15-chatbot/nltk_data...\n",
      "[nltk_data]   Package punkt is already up-to-date!\n",
      "Loading checkpoint shards: 100%|████████████████████████████████████████████████████████████████████████████████████████████| 8/8 [00:03<00:00,  2.36it/s]\n"
     ]
    },
    {
     "name": "stdout",
     "output_type": "stream",
     "text": [
      "Base/Response Model generation time: 0:00:10.134621\n",
      "Total generation time: 0:00:10.138341\n",
      "\n",
      "Cars are typically manufactured in several stages, including:\n",
      "1. Design and engineering: Engineers and designers create a blueprint for the car's body, interior, and mechanics.\n",
      "2. Tooling and assembly: Machines cut and form metal and plastic parts, which are then assembled on an assembly line.\n",
      "3. Quality control: Each car undergoes a rigorous inspection for quality and safety.\n",
      "4. Testing and certification: Cars are tested for safety and performance standards, and then certified for sale.\n",
      "5. Shipping and delivery: Cars are transported to dealerships and sold to customers.\n",
      "\n",
      "The specific processes may vary depending on the manufacturer and type of car.\n",
      "Source:\n",
      "https://cars.usnews.com/cars-trucks/advice/the-best-cars-made-in-america\n",
      "https://www.cars.com/articles/2022-cars-com-american-made-index-which-cars-are-the-most-american-451057/\n",
      "https://en.wikipedia.org/wiki/List_of_automobiles_manufactured_in_the_United_States\n",
      "\n"
     ]
    }
   ],
   "source": [
    "print(rg.generate(\"How are cars made?\")[1])"
   ]
  }
 ],
 "metadata": {
  "colab": {
   "provenance": []
  },
  "kernelspec": {
   "display_name": "Python 3 (ipykernel)",
   "language": "python",
   "name": "python3"
  },
  "language_info": {
   "codemirror_mode": {
    "name": "ipython",
    "version": 3
   },
   "file_extension": ".py",
   "mimetype": "text/x-python",
   "name": "python",
   "nbconvert_exporter": "python",
   "pygments_lexer": "ipython3",
   "version": "3.10.12"
  }
 },
 "nbformat": 4,
 "nbformat_minor": 5
}
