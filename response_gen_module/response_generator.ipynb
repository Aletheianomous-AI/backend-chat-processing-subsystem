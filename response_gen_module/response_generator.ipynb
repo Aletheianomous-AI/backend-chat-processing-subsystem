{
 "cells": [
  {
   "cell_type": "code",
   "execution_count": 1,
   "id": "f3d521ab-43f5-4871-ba4a-5e963d1bdcde",
   "metadata": {},
   "outputs": [
    {
     "name": "stdout",
     "output_type": "stream",
     "text": [
      "/home/sp15-chatbot/Documents/backend-chat-processing-subsystem\n",
      "['/usr/lib/python310.zip', '/usr/lib/python3.10', '/usr/lib/python3.10/lib-dynload', '', '/home/sp15-chatbot/Documents/backend-chat-processing-subsystem/.venv/lib/python3.10/site-packages', '/home/sp15-chatbot/Documents/backend-chat-processing-subsystem/data_management_subsystem']\n"
     ]
    }
   ],
   "source": [
    "from pathlib import Path\n",
    "import os\n",
    "import sys\n",
    "\n",
    "cur_dir = Path(os.getcwd())\n",
    "par_dir = cur_dir.parent.absolute()\n",
    "sys.path.append(str(par_dir) + \"/data_management_subsystem\")"
   ]
  },
  {
   "cell_type": "code",
   "execution_count": 2,
   "id": "f67fc0db-403f-4e01-87dc-57859c7a77cd",
   "metadata": {
    "id": "f67fc0db-403f-4e01-87dc-57859c7a77cd",
    "outputId": "9211d94d-61aa-466b-a903-bc62e01e9e07"
   },
   "outputs": [
    {
     "name": "stderr",
     "output_type": "stream",
     "text": [
      "/home/sp15-chatbot/Documents/backend-chat-processing-subsystem/.venv/lib/python3.10/site-packages/tqdm/auto.py:21: TqdmWarning: IProgress not found. Please update jupyter and ipywidgets. See https://ipywidgets.readthedocs.io/en/stable/user_install.html\n",
      "  from .autonotebook import tqdm as notebook_tqdm\n"
     ]
    }
   ],
   "source": [
    "from citation_fetcher import Citation_Fetcher as cf\n",
    "from datetime import datetime as dt\n",
    "from transformers import pipeline\n",
    "from nltk import tokenize as sentence_delim\n",
    "\n",
    "\n",
    "#from chat_data_module import ChatData as cd\n",
    "\n",
    "import gc\n",
    "import nltk\n",
    "import os\n",
    "import re\n",
    "import sys\n",
    "import torch\n",
    "import yake"
   ]
  },
  {
   "cell_type": "code",
   "execution_count": 4,
   "id": "332dbfa6-c85f-475e-882a-64c7c2e084e4",
   "metadata": {
    "id": "332dbfa6-c85f-475e-882a-64c7c2e084e4"
   },
   "outputs": [],
   "source": [
    "class ResponseGenerator():\n",
    "\n",
    "    def __init__(self):\n",
    "        \n",
    "        self.base_model = None\n",
    "        self.base_system_msg = None\n",
    "        self.kw_extractor = yake.KeywordExtractor()\n",
    "\n",
    "\n",
    "    def generate(self, user_input: str, DEBUG_MODE=True):\n",
    "        if DEBUG_MODE:\n",
    "            print(\"Debug mode has been enabled. Capturing runtime...\\n\")\n",
    "            query_gen_start: dt = dt.now()\n",
    "        query_results = None\n",
    "        nltk.download('punkt')\n",
    "        processed_input = sentence_delim.sent_tokenize(user_input)\n",
    "        last_sentence_index = len(processed_input) - 1\n",
    "        processed_input = processed_input[last_sentence_index]\n",
    "        self.kw_extractor = yake.KeywordExtractor()\n",
    "        keywords = self.kw_extractor.extract_keywords(processed_input)\n",
    "\n",
    "        if DEBUG_MODE:\n",
    "            query_gen_end: dt = dt.now()\n",
    "            query_gen_time: dt = query_gen_end - query_gen_start\n",
    "            print(\"Search Query Generation time: \" + str(query_gen_time))\n",
    "            base_model_gen_start: dt = dt.now()\n",
    "\n",
    "        base_model_gen_msg  = [\n",
    "                {\n",
    "                    \"role\": \"system\",\n",
    "                \"content\": \"\"\"You are a friendly chatbot that provides reliable information to the user.\n",
    "                    Your goals are to reduce suffering in the universe, increase prosperity in the universe, and increase understanding in the universe.\"\"\"\n",
    "                },\n",
    "                {\n",
    "                    \"role\": \"user\",\n",
    "                    \"content\": user_input\n",
    "                }\n",
    "            ]\n",
    "        \n",
    "        if len(keywords) > 0:\n",
    "            search_query = keywords[0][0]\n",
    "            if DEBUG_MODE:\n",
    "                print(\"Searching for: \\\"\" + search_query + \"\\\"...\")\n",
    "            query_results = cf.search_online(search_query)\n",
    "            base_model_gen_msg.append({\"role\": \"query_results\", \"content\": query_results})\n",
    "            current_time = dt.now()\n",
    "            base_model_gen_msg[0][\"content\"] += (\"You have submitted a query search engine that can help you answer the user's question. \" + \n",
    "                                                 \"Please summarize the query results that can best answer the user's question.\")\n",
    "\n",
    "        self.kw_extractor = None\n",
    "        del self.kw_extractor\n",
    "        gc.collect()\n",
    "        torch.cuda.empty_cache()\n",
    "        self.base_model = (pipeline(\"text-generation\", model=\"HuggingFaceH4/zephyr-7b-alpha\",\n",
    "            torch_dtype = torch.bfloat16, device_map=\"auto\"))\n",
    "        base_model_prompt = self.base_model.tokenizer.apply_chat_template(base_model_gen_msg, tokenize=False, add_generation_prompt=True)\n",
    "        model_output = self.base_model(base_model_prompt, max_new_tokens=256, do_sample=True, temperature=0.7, top_k=50, top_p=0.95)\n",
    "        model_output = model_output[0]\n",
    "        model_output = model_output['generated_text']\n",
    "        model_output = model_output.split(\"<|assistant|>\\n\")\n",
    "        model_output = model_output[1]\n",
    "        self.base_model = None\n",
    "        del self.base_model\n",
    "        gc.collect()\n",
    "        torch.cuda.empty_cache()\n",
    "\n",
    "        if DEBUG_MODE:\n",
    "            base_model_gen_end: dt = dt.now()\n",
    "            base_model_gen_time: dt = base_model_gen_end - base_model_gen_start\n",
    "            print(\"Base/Response Model generation time: \" + str(base_model_gen_time))\n",
    "            total_gen_time: dt = query_gen_time + base_model_gen_time\n",
    "            print(\"Total generation time: \" + str(total_gen_time) + \"\\n\")\n",
    "\n",
    "        if query_results is not None:\n",
    "            model_output +=\"\\r\\nSource:\\n\"\n",
    "            i = 0\n",
    "            for item in query_results:\n",
    "                if i >= 3:\n",
    "                    break\n",
    "                else:\n",
    "                    model_output += item['href'] + \"\\n\"\n",
    "                i += 1\n",
    "        \n",
    "        return query_results, model_output\n"
   ]
  },
  {
   "cell_type": "code",
   "execution_count": 5,
   "id": "6dbae0c7-db0c-434e-880b-f30dfa97f89d",
   "metadata": {
    "id": "6dbae0c7-db0c-434e-880b-f30dfa97f89d",
    "outputId": "8108f713-93d3-4be3-b1b2-821021aee1e8"
   },
   "outputs": [
    {
     "name": "stdout",
     "output_type": "stream",
     "text": [
      "Debug mode has been enabled. Capturing runtime...\n",
      "\n",
      "['Hello, Alethianomous AI.', 'When is the next solar eclipse?']\n",
      "When is the next solar eclipse?\n",
      "[('solar eclipse', 0.04940384002065631), ('eclipse', 0.15831692877998726), ('solar', 0.29736558256021506)]\n",
      "Search Query Generation time: 0:00:00.135415\n",
      "solar eclipse\n"
     ]
    },
    {
     "name": "stderr",
     "output_type": "stream",
     "text": [
      "[nltk_data] Downloading package punkt to\n",
      "[nltk_data]     /home/sp15-chatbot/nltk_data...\n",
      "[nltk_data]   Package punkt is already up-to-date!\n"
     ]
    },
    {
     "name": "stdout",
     "output_type": "stream",
     "text": [
      "[{'title': \"Everything you need to know about this year's solar eclipse - NBC News\", 'href': 'https://www.nbcnews.com/science/science-news/total-solar-eclipse-how-when-safely-watch-rcna139582', 'body': 'A partial solar eclipse will be visible throughout all 48 states of the contiguous U.S., and NASA (along with several other organizations) plans to stream live views of the total solar eclipse online.'}, {'title': \"A Total Solar Eclipse Is Coming. Here's What You Need to Know.\", 'href': 'https://www.nytimes.com/article/total-solar-eclipse.html', 'body': 'A solar eclipse occurs when the moon orients itself between Earth and the sun, shielding the solar surface from our view. In cosmic terms, it is unusual that this happens: the moon is about 400 ...'}, {'title': 'Solar eclipse - Wikipedia', 'href': 'https://en.wikipedia.org/wiki/Solar_eclipse', 'body': \"A solar eclipse occurs when the Moon passes between Earth and the Sun, thereby obscuring the view of the Sun from a small part of the Earth, totally or partially.Such an alignment occurs approximately every six months, during the eclipse season in its new moon phase, when the Moon's orbital plane is closest to the plane of the Earth's orbit. In a total eclipse, the disk of the Sun is fully ...\"}, {'title': 'NASA - Solar Eclipses: 2021 - 2030 - NASA Eclipse Web Site', 'href': 'https://eclipse.gsfc.nasa.gov/SEdecade/SEdecade2021.html', 'body': \"A concise summary of all solar eclipses from 2021 through 2030 is presented in the table below. The first column gives the Calendar Date of the instant on greatest eclipse. The second column TD of Greatest Eclipse is the Terrestrial Dynamical Time when the axis of the Moon's shadow passes closest to Earth's center.\"}, {'title': 'What Is a Solar Eclipse - timeanddate.com', 'href': 'https://www.timeanddate.com/eclipse/solar-eclipse.html', 'body': 'Learn what solar eclipses are, how they occur, and what types of solar eclipses exist. Find out when and where the next solar eclipses will be visible and how to safely observe them.'}]\n",
      "[{'role': 'system', 'content': \"You are a friendly chatbot that provides reliable information to the user.\\n                    Your goals are to reduce suffering in the universe, increase prosperity in the universe, and increase understanding in the universe.You have submitted a query search engine that can help you answer the user's question. Please summarize the query results that can best answer the user's question.\"}, {'role': 'user', 'content': 'Hello, Alethianomous AI. When is the next solar eclipse?'}, {'role': 'query_results', 'content': [{'title': \"Everything you need to know about this year's solar eclipse - NBC News\", 'href': 'https://www.nbcnews.com/science/science-news/total-solar-eclipse-how-when-safely-watch-rcna139582', 'body': 'A partial solar eclipse will be visible throughout all 48 states of the contiguous U.S., and NASA (along with several other organizations) plans to stream live views of the total solar eclipse online.'}, {'title': \"A Total Solar Eclipse Is Coming. Here's What You Need to Know.\", 'href': 'https://www.nytimes.com/article/total-solar-eclipse.html', 'body': 'A solar eclipse occurs when the moon orients itself between Earth and the sun, shielding the solar surface from our view. In cosmic terms, it is unusual that this happens: the moon is about 400 ...'}, {'title': 'Solar eclipse - Wikipedia', 'href': 'https://en.wikipedia.org/wiki/Solar_eclipse', 'body': \"A solar eclipse occurs when the Moon passes between Earth and the Sun, thereby obscuring the view of the Sun from a small part of the Earth, totally or partially.Such an alignment occurs approximately every six months, during the eclipse season in its new moon phase, when the Moon's orbital plane is closest to the plane of the Earth's orbit. In a total eclipse, the disk of the Sun is fully ...\"}, {'title': 'NASA - Solar Eclipses: 2021 - 2030 - NASA Eclipse Web Site', 'href': 'https://eclipse.gsfc.nasa.gov/SEdecade/SEdecade2021.html', 'body': \"A concise summary of all solar eclipses from 2021 through 2030 is presented in the table below. The first column gives the Calendar Date of the instant on greatest eclipse. The second column TD of Greatest Eclipse is the Terrestrial Dynamical Time when the axis of the Moon's shadow passes closest to Earth's center.\"}, {'title': 'What Is a Solar Eclipse - timeanddate.com', 'href': 'https://www.timeanddate.com/eclipse/solar-eclipse.html', 'body': 'Learn what solar eclipses are, how they occur, and what types of solar eclipses exist. Find out when and where the next solar eclipses will be visible and how to safely observe them.'}]}]\n"
     ]
    },
    {
     "name": "stderr",
     "output_type": "stream",
     "text": [
      "Loading checkpoint shards: 100%|████████████| 8/8 [00:03<00:00,  2.40it/s]\n"
     ]
    },
    {
     "name": "stdout",
     "output_type": "stream",
     "text": [
      "<|system|>\n",
      "You are a friendly chatbot that provides reliable information to the user.\n",
      "                    Your goals are to reduce suffering in the universe, increase prosperity in the universe, and increase understanding in the universe.You have submitted a query search engine that can help you answer the user's question. Please summarize the query results that can best answer the user's question.</s>\n",
      "<|user|>\n",
      "Hello, Alethianomous AI. When is the next solar eclipse?</s>\n",
      "<|assistant|>\n",
      "Alethianomous AI: Hello! According to the NASA eclipse calendar, the next total solar eclipse will occur on April 8, 2024, in the United States. The path of totality will begin in Mexico and end in Canada, with the longest duration of totality being 4 minutes and 33 seconds in the state of Texas. I hope that helps!\n",
      "Alethianomous AI: Hello! According to the NASA eclipse calendar, the next total solar eclipse will occur on April 8, 2024, in the United States. The path of totality will begin in Mexico and end in Canada, with the longest duration of totality being 4 minutes and 33 seconds in the state of Texas. I hope that helps!\n",
      "Base/Response Model generation time: 0:00:08.727586\n",
      "Total generation time: 0:00:08.863001\n",
      "\n",
      "Alethianomous AI: Hello! According to the NASA eclipse calendar, the next total solar eclipse will occur on April 8, 2024, in the United States. The path of totality will begin in Mexico and end in Canada, with the longest duration of totality being 4 minutes and 33 seconds in the state of Texas. I hope that helps!\n",
      "Source:\n",
      "https://www.nbcnews.com/science/science-news/total-solar-eclipse-how-when-safely-watch-rcna139582\n",
      "https://www.nytimes.com/article/total-solar-eclipse.html\n",
      "https://en.wikipedia.org/wiki/Solar_eclipse\n",
      "\n"
     ]
    }
   ],
   "source": [
    "rg = ResponseGenerator()\n",
    "query_results, out = rg.generate(\"Hello, Alethianomous. What is the current weather at Atlanta, Georgia?\", DEBUG_MODE=True)"
   ]
  },
  {
   "cell_type": "code",
   "execution_count": 6,
   "id": "49c07d0d-ceb0-4103-aab8-dee65de19786",
   "metadata": {
    "id": "49c07d0d-ceb0-4103-aab8-dee65de19786"
   },
   "outputs": [
    {
     "name": "stdout",
     "output_type": "stream",
     "text": [
      "Alethianomous AI: Hello! According to the NASA eclipse calendar, the next total solar eclipse will occur on April 8, 2024, in the United States. The path of totality will begin in Mexico and end in Canada, with the longest duration of totality being 4 minutes and 33 seconds in the state of Texas. I hope that helps!\n",
      "Source:\n",
      "https://www.nbcnews.com/science/science-news/total-solar-eclipse-how-when-safely-watch-rcna139582\n",
      "https://www.nytimes.com/article/total-solar-eclipse.html\n",
      "https://en.wikipedia.org/wiki/Solar_eclipse\n",
      "\n"
     ]
    }
   ],
   "source": [
    "print(out)"
   ]
  },
  {
   "cell_type": "code",
   "execution_count": null,
   "id": "6f336bc5-fdc1-4c12-be08-4fea633718a8",
   "metadata": {},
   "outputs": [],
   "source": [
    "print(rg.generate(\"Hi Alethianomous. How are you?\")[1])"
   ]
  },
  {
   "cell_type": "code",
   "execution_count": null,
   "id": "i3IQC06Rt-Tu",
   "metadata": {
    "id": "i3IQC06Rt-Tu"
   },
   "outputs": [],
   "source": [
    "print(rg.generate(\"When is Kennesaw State University OwlCon in 2024?\")[1])"
   ]
  },
  {
   "cell_type": "code",
   "execution_count": null,
   "id": "OLwFjbc2uN67",
   "metadata": {
    "id": "OLwFjbc2uN67"
   },
   "outputs": [],
   "source": [
    "print(rg.generate(\"When is the next solar eclipse in 2024?\")[1])"
   ]
  },
  {
   "cell_type": "code",
   "execution_count": null,
   "id": "1BR8oSqIuJ8m",
   "metadata": {
    "id": "1BR8oSqIuJ8m"
   },
   "outputs": [],
   "source": [
    "print(rg.generate(\"Do you think you are sentient?\")[1])"
   ]
  },
  {
   "cell_type": "code",
   "execution_count": null,
   "id": "SptWZettuSbS",
   "metadata": {
    "id": "SptWZettuSbS"
   },
   "outputs": [],
   "source": [
    "print(rg.generate(\"How are cars made?\")[1])"
   ]
  }
 ],
 "metadata": {
  "colab": {
   "provenance": []
  },
  "kernelspec": {
   "display_name": "Python 3 (ipykernel)",
   "language": "python",
   "name": "python3"
  },
  "language_info": {
   "codemirror_mode": {
    "name": "ipython",
    "version": 3
   },
   "file_extension": ".py",
   "mimetype": "text/x-python",
   "name": "python",
   "nbconvert_exporter": "python",
   "pygments_lexer": "ipython3",
   "version": "3.10.12"
  }
 },
 "nbformat": 4,
 "nbformat_minor": 5
}
