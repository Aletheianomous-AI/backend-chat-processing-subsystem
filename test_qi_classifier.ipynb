{
 "cells": [
  {
   "cell_type": "code",
   "execution_count": 1,
   "id": "85969afb-ba6a-4beb-923d-83912e45ac71",
   "metadata": {},
   "outputs": [
    {
     "name": "stdout",
     "output_type": "stream",
     "text": [
      "/home/sp15-chatbot/Documents/backend-chat-processing-subsystem\n",
      "['/usr/lib/python310.zip', '/usr/lib/python3.10', '/usr/lib/python3.10/lib-dynload', '', '/home/sp15-chatbot/Documents/backend-chat-processing-subsystem/.venv/lib/python3.10/site-packages', '/home/sp15-chatbot/Documents/backend-chat-processing-subsystem/data_management_subsystem', '/home/sp15-chatbot/Documents/backend-chat-processing-subsystem/query_parsing_module']\n"
     ]
    }
   ],
   "source": [
    "from query_parsing_module.qi_classifier import QIClassifier\n",
    "from query_parsing_module.qi_classifier_wrapper import QIClassifierWrapper as QIW\n",
    "\n",
    "#import const"
   ]
  },
  {
   "cell_type": "code",
   "execution_count": 2,
   "id": "378dfc9c-ba3d-4b25-9ea6-41f3bde16040",
   "metadata": {},
   "outputs": [
    {
     "name": "stdout",
     "output_type": "stream",
     "text": [
      "['/usr/lib/python310.zip', '/usr/lib/python3.10', '/usr/lib/python3.10/lib-dynload', '', '/home/sp15-chatbot/Documents/backend-chat-processing-subsystem/.venv/lib/python3.10/site-packages', '/home/sp15-chatbot/Documents/backend-chat-processing-subsystem/data_management_subsystem', '/home/sp15-chatbot/Documents/backend-chat-processing-subsystem/query_parsing_module']\n"
     ]
    }
   ],
   "source": [
    "import sys\n",
    "#sys.path.remove(\"/home/sp15-chatbot/Documents/backend-chat-processing-subsystem/query_parsing_module\")\n",
    "print(sys.path)"
   ]
  },
  {
   "cell_type": "code",
   "execution_count": 3,
   "id": "b95329ed-6c50-402f-90e2-1c75ca296ffc",
   "metadata": {},
   "outputs": [
    {
     "name": "stdout",
     "output_type": "stream",
     "text": [
      "/home/sp15-chatbot/Documents/backend-chat-processing-subsystem\n",
      "['/usr/lib/python310.zip', '/usr/lib/python3.10', '/usr/lib/python3.10/lib-dynload', '', '/home/sp15-chatbot/Documents/backend-chat-processing-subsystem/.venv/lib/python3.10/site-packages', '/home/sp15-chatbot/Documents/backend-chat-processing-subsystem/data_management_subsystem', '/home/sp15-chatbot/Documents/backend-chat-processing-subsystem/query_parsing_module']\n"
     ]
    }
   ],
   "source": [
    "model = QIW(\"./models/aletheianomous_ai-QI_class-v0.1.4/\")"
   ]
  },
  {
   "cell_type": "code",
   "execution_count": 5,
   "id": "5b46655b-db09-4c45-a330-1c8d2dc1afd4",
   "metadata": {},
   "outputs": [
    {
     "data": {
      "text/plain": [
       "OrderedDict([('embedding.weight',\n",
       "              tensor([[-0.1293,  2.3463,  1.2931,  ..., -0.1466, -0.2458, -1.0274],\n",
       "                      [ 0.8858,  0.9147,  1.0213,  ...,  0.2275, -0.6089,  0.0910],\n",
       "                      [ 0.8411,  0.0977, -1.1134,  ..., -0.5810, -0.9122,  1.5941],\n",
       "                      ...,\n",
       "                      [ 0.7458, -0.3365,  0.6557,  ...,  0.6867,  0.8481,  0.7879],\n",
       "                      [-0.3436, -0.5097, -0.1206,  ..., -0.3284, -1.2847,  0.5295],\n",
       "                      [ 1.5190,  1.3973,  1.2049,  ...,  0.6760, -0.0423, -0.0894]],\n",
       "                     device='cuda:0')),\n",
       "             ('rnn.weight_ih_l0',\n",
       "              tensor([[ 0.0193, -0.0369,  0.0401,  ..., -0.0123,  0.0022, -0.0429],\n",
       "                      [-0.0074,  0.0427, -0.0151,  ..., -0.0009, -0.0149,  0.0083],\n",
       "                      [-0.0360,  0.0429, -0.0027,  ...,  0.0388, -0.0382,  0.0154],\n",
       "                      ...,\n",
       "                      [ 0.0465, -0.0069, -0.0407,  ...,  0.0070, -0.0185,  0.0384],\n",
       "                      [-0.0103, -0.0045, -0.0026,  ..., -0.0243, -0.0112,  0.0009],\n",
       "                      [ 0.0380, -0.0309,  0.0224,  ..., -0.0039, -0.0270, -0.0344]],\n",
       "                     device='cuda:0')),\n",
       "             ('rnn.weight_hh_l0',\n",
       "              tensor([[ 0.0387, -0.0140,  0.0179,  ...,  0.0228, -0.0214,  0.0402],\n",
       "                      [ 0.0441,  0.0095, -0.0196,  ...,  0.0331, -0.0286,  0.0221],\n",
       "                      [ 0.0218,  0.0118, -0.0436,  ..., -0.0005, -0.0145,  0.0261],\n",
       "                      ...,\n",
       "                      [ 0.0147,  0.0199,  0.0242,  ..., -0.0310,  0.0107,  0.0270],\n",
       "                      [-0.0436, -0.0234,  0.0128,  ..., -0.0253,  0.0062, -0.0280],\n",
       "                      [ 0.0171, -0.0435,  0.0202,  ..., -0.0167,  0.0198,  0.0018]],\n",
       "                     device='cuda:0')),\n",
       "             ('rnn.bias_ih_l0',\n",
       "              tensor([ 0.0107, -0.0137, -0.0146,  ...,  0.0372,  0.0360, -0.0308],\n",
       "                     device='cuda:0')),\n",
       "             ('rnn.bias_hh_l0',\n",
       "              tensor([ 0.0410, -0.0125, -0.0181,  ...,  0.0598, -0.0125, -0.0344],\n",
       "                     device='cuda:0')),\n",
       "             ('rnn.weight_ih_l1',\n",
       "              tensor([[-0.0245, -0.0180,  0.0281,  ...,  0.0424, -0.0156,  0.0140],\n",
       "                      [-0.0212,  0.0092, -0.0389,  ...,  0.0090,  0.0158,  0.0330],\n",
       "                      [-0.0002, -0.0265,  0.0063,  ...,  0.0164, -0.0221, -0.0273],\n",
       "                      ...,\n",
       "                      [ 0.0220,  0.0182, -0.0366,  ...,  0.0150,  0.0338, -0.0302],\n",
       "                      [-0.0332, -0.0391,  0.0303,  ..., -0.0370,  0.0266, -0.0440],\n",
       "                      [-0.0212,  0.0399, -0.0313,  ..., -0.0133, -0.0338,  0.0039]],\n",
       "                     device='cuda:0')),\n",
       "             ('rnn.weight_hh_l1',\n",
       "              tensor([[ 0.0083,  0.0356, -0.0377,  ..., -0.0247,  0.0205,  0.0044],\n",
       "                      [-0.0112,  0.0012, -0.0167,  ..., -0.0337,  0.0173,  0.0110],\n",
       "                      [-0.0136, -0.0260,  0.0349,  ..., -0.0051,  0.0057,  0.0089],\n",
       "                      ...,\n",
       "                      [-0.0006, -0.0360, -0.0329,  ...,  0.0012,  0.0266,  0.0405],\n",
       "                      [ 0.0073, -0.0169, -0.0277,  ...,  0.0192,  0.0422,  0.0315],\n",
       "                      [ 0.0055,  0.0186, -0.0323,  ..., -0.0104,  0.0076,  0.0022]],\n",
       "                     device='cuda:0')),\n",
       "             ('rnn.bias_ih_l1',\n",
       "              tensor([ 0.0347, -0.0418,  0.0264,  ...,  0.0274, -0.0130, -0.0096],\n",
       "                     device='cuda:0')),\n",
       "             ('rnn.bias_hh_l1',\n",
       "              tensor([ 0.0408, -0.0038,  0.0280,  ...,  0.0352,  0.0022, -0.0098],\n",
       "                     device='cuda:0')),\n",
       "             ('fc.weight',\n",
       "              tensor([[ 0.0480, -0.0467,  0.0188,  ...,  0.0572,  0.0714,  0.1049],\n",
       "                      [-0.0431,  0.0420, -0.0120,  ..., -0.0592, -0.0382, -0.0770]],\n",
       "                     device='cuda:0')),\n",
       "             ('fc.bias', tensor([-0.1262,  0.1614], device='cuda:0'))])"
      ]
     },
     "execution_count": 5,
     "metadata": {},
     "output_type": "execute_result"
    }
   ],
   "source": [
    "model.model.state_dict()"
   ]
  },
  {
   "cell_type": "code",
   "execution_count": 6,
   "id": "621baa2b-ccbf-4c3a-bfc9-7c1c44cd546b",
   "metadata": {},
   "outputs": [],
   "source": [
    "import torch"
   ]
  },
  {
   "cell_type": "code",
   "execution_count": 8,
   "id": "b6a7d59a-7686-4ced-b0be-a88a54f15e81",
   "metadata": {},
   "outputs": [],
   "source": [
    "torch.save(model.model.state_dict(), \"./models/aletheianomous_ai-QI_class-v0.1.4/model_params.pt\")"
   ]
  },
  {
   "cell_type": "code",
   "execution_count": 4,
   "id": "07d89773-8271-4fae-9b43-8cc62e3b87ba",
   "metadata": {},
   "outputs": [
    {
     "data": {
      "text/plain": [
       "0"
      ]
     },
     "execution_count": 4,
     "metadata": {},
     "output_type": "execute_result"
    }
   ],
   "source": [
    "model.classify(\"Who is Mike Schmidt?\")"
   ]
  },
  {
   "cell_type": "code",
   "execution_count": 4,
   "id": "7247418f-109f-4b1b-99ea-51ceb9becc57",
   "metadata": {},
   "outputs": [],
   "source": [
    "model.deallocate()\n",
    "model.allocate()"
   ]
  },
  {
   "cell_type": "code",
   "execution_count": 5,
   "id": "d8078f92-62c6-40cd-940f-d0c205c766a9",
   "metadata": {},
   "outputs": [
    {
     "data": {
      "text/plain": [
       "1"
      ]
     },
     "execution_count": 5,
     "metadata": {},
     "output_type": "execute_result"
    }
   ],
   "source": [
    "model.classify(\"This is epic.\")"
   ]
  }
 ],
 "metadata": {
  "kernelspec": {
   "display_name": "Python 3 (ipykernel)",
   "language": "python",
   "name": "python3"
  },
  "language_info": {
   "codemirror_mode": {
    "name": "ipython",
    "version": 3
   },
   "file_extension": ".py",
   "mimetype": "text/x-python",
   "name": "python",
   "nbconvert_exporter": "python",
   "pygments_lexer": "ipython3",
   "version": "3.10.12"
  }
 },
 "nbformat": 4,
 "nbformat_minor": 5
}
