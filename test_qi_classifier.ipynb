{
 "cells": [
  {
   "cell_type": "code",
   "execution_count": 1,
   "id": "85969afb-ba6a-4beb-923d-83912e45ac71",
   "metadata": {},
   "outputs": [
    {
     "name": "stdout",
     "output_type": "stream",
     "text": [
      "/home/sp15-chatbot/Documents/backend-chat-processing-subsystem\n",
      "['/usr/lib/python310.zip', '/usr/lib/python3.10', '/usr/lib/python3.10/lib-dynload', '', '/home/sp15-chatbot/Documents/backend-chat-processing-subsystem/.venv/lib/python3.10/site-packages', '/home/sp15-chatbot/Documents/backend-chat-processing-subsystem/data_management_subsystem', '/home/sp15-chatbot/Documents/backend-chat-processing-subsystem/query_parsing_module']\n"
     ]
    }
   ],
   "source": [
    "from query_parsing_module.qi_classifier import QIClassifier\n",
    "from query_parsing_module.qi_classifier_wrapper import QIClassifierWrapper as QIW\n",
    "\n",
    "#import const"
   ]
  },
  {
   "cell_type": "code",
   "execution_count": 2,
   "id": "b95329ed-6c50-402f-90e2-1c75ca296ffc",
   "metadata": {},
   "outputs": [],
   "source": [
    "model = QIW(\"./models/aletheianomous_ai-QI_class-v0.1.4/\")"
   ]
  },
  {
   "cell_type": "code",
   "execution_count": 3,
   "id": "07d89773-8271-4fae-9b43-8cc62e3b87ba",
   "metadata": {},
   "outputs": [
    {
     "data": {
      "text/plain": [
       "0"
      ]
     },
     "execution_count": 3,
     "metadata": {},
     "output_type": "execute_result"
    }
   ],
   "source": [
    "model.classify(\"Who is Mike Schmidt?\")"
   ]
  },
  {
   "cell_type": "code",
   "execution_count": 4,
   "id": "7247418f-109f-4b1b-99ea-51ceb9becc57",
   "metadata": {},
   "outputs": [],
   "source": [
    "model.deallocate()\n",
    "model.allocate()"
   ]
  },
  {
   "cell_type": "code",
   "execution_count": 5,
   "id": "d8078f92-62c6-40cd-940f-d0c205c766a9",
   "metadata": {},
   "outputs": [
    {
     "data": {
      "text/plain": [
       "1"
      ]
     },
     "execution_count": 5,
     "metadata": {},
     "output_type": "execute_result"
    }
   ],
   "source": [
    "model.classify(\"This is epic.\")"
   ]
  }
 ],
 "metadata": {
  "kernelspec": {
   "display_name": "Python 3 (ipykernel)",
   "language": "python",
   "name": "python3"
  },
  "language_info": {
   "codemirror_mode": {
    "name": "ipython",
    "version": 3
   },
   "file_extension": ".py",
   "mimetype": "text/x-python",
   "name": "python",
   "nbconvert_exporter": "python",
   "pygments_lexer": "ipython3",
   "version": "3.10.12"
  }
 },
 "nbformat": 4,
 "nbformat_minor": 5
}
