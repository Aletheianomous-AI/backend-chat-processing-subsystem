{
 "cells": [
  {
   "cell_type": "code",
   "execution_count": 1,
   "id": "2a0ed9d6-6081-4deb-9e1a-110ef1e4c01d",
   "metadata": {},
   "outputs": [],
   "source": [
    "from query_parsing_module.query_parser import QueryParser"
   ]
  },
  {
   "cell_type": "code",
   "execution_count": 2,
   "id": "5ac8270f-6382-4c1e-9e89-0c05c54250ef",
   "metadata": {},
   "outputs": [
    {
     "name": "stderr",
     "output_type": "stream",
     "text": [
      "`low_cpu_mem_usage` was None, now set to True since model is quantized.\n"
     ]
    },
    {
     "data": {
      "application/vnd.jupyter.widget-view+json": {
       "model_id": "f087b6bf99834977973f00385425f215",
       "version_major": 2,
       "version_minor": 0
      },
      "text/plain": [
       "Loading checkpoint shards:   0%|          | 0/8 [00:00<?, ?it/s]"
      ]
     },
     "metadata": {},
     "output_type": "display_data"
    }
   ],
   "source": [
    "parser = QueryParser(\"./models/aletheianomous_ai-keyword_extractor-v0.3.1/\")"
   ]
  },
  {
   "cell_type": "code",
   "execution_count": 3,
   "id": "86644014-9834-47c6-bcc1-a44ef9187330",
   "metadata": {},
   "outputs": [
    {
     "data": {
      "text/plain": [
       "'Sunset in Acworth, Georgia'"
      ]
     },
     "execution_count": 3,
     "metadata": {},
     "output_type": "execute_result"
    }
   ],
   "source": [
    "parser.generate_query(\"When is the Sunset in Acworth, Georgia?\")"
   ]
  },
  {
   "cell_type": "code",
   "execution_count": 4,
   "id": "49c084ed-5dde-400d-8085-77aa5c2ec548",
   "metadata": {},
   "outputs": [
    {
     "name": "stderr",
     "output_type": "stream",
     "text": [
      "`low_cpu_mem_usage` was None, now set to True since model is quantized.\n"
     ]
    },
    {
     "data": {
      "application/vnd.jupyter.widget-view+json": {
       "model_id": "9503f72cbf5d4d2cb6ea26ec1f3aee5a",
       "version_major": 2,
       "version_minor": 0
      },
      "text/plain": [
       "Loading checkpoint shards:   0%|          | 0/8 [00:00<?, ?it/s]"
      ]
     },
     "metadata": {},
     "output_type": "display_data"
    }
   ],
   "source": [
    "parser.deallocate()\n",
    "parser.allocate()"
   ]
  },
  {
   "cell_type": "code",
   "execution_count": 5,
   "id": "7a912a90-9967-43ef-82fd-55ad1c154211",
   "metadata": {},
   "outputs": [
    {
     "data": {
      "text/plain": [
       "'Beyonce daughter birth location'"
      ]
     },
     "execution_count": 5,
     "metadata": {},
     "output_type": "execute_result"
    }
   ],
   "source": [
    "parser.generate_query(\"Where was Beyonce's daughter born?\")"
   ]
  }
 ],
 "metadata": {
  "kernelspec": {
   "display_name": "Python 3 (ipykernel)",
   "language": "python",
   "name": "python3"
  },
  "language_info": {
   "codemirror_mode": {
    "name": "ipython",
    "version": 3
   },
   "file_extension": ".py",
   "mimetype": "text/x-python",
   "name": "python",
   "nbconvert_exporter": "python",
   "pygments_lexer": "ipython3",
   "version": "3.10.12"
  }
 },
 "nbformat": 4,
 "nbformat_minor": 5
}
